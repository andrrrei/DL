{
  "cells": [
    {
      "cell_type": "markdown",
      "metadata": {
        "id": "QAf6w23UB4Ww"
      },
      "source": [
        "## Домашнее задание №1"
      ]
    },
    {
      "cell_type": "code",
      "execution_count": null,
      "metadata": {
        "id": "Ep6d50MfB4W0"
      },
      "outputs": [],
      "source": [
        "import numpy as np\n",
        "import json\n",
        "import re"
      ]
    },
    {
      "cell_type": "markdown",
      "metadata": {
        "id": "KkXDFCROB4W2"
      },
      "source": [
        "### Задача № 1\n",
        "Импортируйте `torch` и сохраните его версию в переменную version"
      ]
    },
    {
      "cell_type": "code",
      "execution_count": null,
      "metadata": {
        "id": "Za4-RXMTB4W3"
      },
      "outputs": [],
      "source": [
        "# импортируйте torch и сохраните его версию в переменную version\n",
        "import torch\n",
        "version = torch.__version__\n",
        "\n",
        "# не изменяйте код в блоке ниже! Он нужен для проверки правильности вашего кода.\n",
        "# __________start of block__________\n",
        "assert version is not None, 'Версия PyTorch не сохранилась в переменную version'\n",
        "major_version, minor_version = re.findall(\"\\d+\\.\\d+\", version)[0].split('.')\n",
        "assert float(major_version) >= 2 or (float(major_version) >= 1 and float(minor_version) >= 7), 'Нужно обновить PyTorch'\n",
        "# __________end of block__________"
      ]
    },
    {
      "cell_type": "markdown",
      "metadata": {
        "id": "Zvg6WZEqB4W4"
      },
      "source": [
        "Теперь импортируйте модуль `nn` и внутри функции `create_model` постройте нейронную сеть из трех линейных слоев размерностей 256, 16 и 10. Не забывайте о свободном члене (bias).\n",
        "\n",
        "Исходные элементы данных имеют размерность 784. В качестве функций активации скрытых слоев используйте ReLU. Самый последний слой оставьте без функции активации.\n",
        "\n",
        "В этом задании можно пользоваться torch.nn.Sequential()\n",
        "\n"
      ]
    },
    {
      "cell_type": "code",
      "execution_count": null,
      "metadata": {
        "id": "q9n1-j78B4W4"
      },
      "outputs": [],
      "source": [
        "import torch.nn as nn\n",
        "\n",
        "def create_model():\n",
        "    model = nn.Sequential(\n",
        "        nn.Linear(784, 256),  # 784 input features, 256 output features\n",
        "        nn.ReLU(),            # ReLU activation function\n",
        "        nn.Linear(256, 16),   # 256 input features, 16 output features\n",
        "        nn.ReLU(),            # ReLU activation function\n",
        "        nn.Linear(16, 10)     # 16 input features, 10 output features\n",
        "    )\n",
        "\n",
        "    return model\n",
        "\n",
        "model = create_model()\n",
        "# не изменяйте код в блоке ниже! Он нужен для проверки правильности вашего кода.\n",
        "# __________start of block__________\n",
        "for param in model.parameters():\n",
        "    nn.init.constant_(param, 1.)\n",
        "\n",
        "assert torch.allclose(model(torch.ones((1, 784))), torch.ones((1, 10)) * 3215377.), 'Что-то не так со структурой модели'\n",
        "\n",
        "# __________end of block__________"
      ]
    },
    {
      "cell_type": "markdown",
      "metadata": {
        "id": "Ml9RTIdyB4W5"
      },
      "source": [
        "Скопируйте функцию `create_model` в `submission_template01.py` для последующей сдачи задания."
      ]
    },
    {
      "cell_type": "markdown",
      "metadata": {
        "id": "RZUZ1oQGB4W5"
      },
      "source": [
        "### Задача №2\n",
        "Реализуйте функцию для подсчета количества параметров в модели (вам может помочь `model.parameters()`).\n",
        "\n",
        "На вход она принимает модель, на выход возвращает одно число – количество параметров в модели. Для вашего удобства доступно несколько тестов ниже."
      ]
    },
    {
      "cell_type": "code",
      "execution_count": null,
      "metadata": {
        "id": "NmnekTpSB4W6",
        "colab": {
          "base_uri": "https://localhost:8080/"
        },
        "outputId": "2c195244-a027-47cb-f75b-12d60f3e5118"
      },
      "outputs": [
        {
          "output_type": "stream",
          "name": "stdout",
          "text": [
            "Seems fine!\n"
          ]
        }
      ],
      "source": [
        "def count_parameters(model):\n",
        "    total_params = sum(p.numel() for p in model.parameters() if p.requires_grad)\n",
        "    return total_params\n",
        "\n",
        "# не изменяйте код в блоке ниже! Он нужен для проверки правильности вашего кода.\n",
        "# __________start of block__________\n",
        "small_model = nn.Linear(128, 256)\n",
        "assert count_parameters(small_model) == 128 * 256 + 256, 'Что-то не так, количество параметров неверное'\n",
        "\n",
        "medium_model = nn.Sequential(*[nn.Linear(128, 32, bias=False), nn.ReLU(), nn.Linear(32, 10, bias=False)])\n",
        "assert count_parameters(medium_model) == 128 * 32 + 32 * 10, 'Что-то не так, количество параметров неверное'\n",
        "print(\"Seems fine!\")\n",
        "# __________end of block__________"
      ]
    },
    {
      "cell_type": "markdown",
      "metadata": {
        "id": "5CfQR34pB4W6"
      },
      "source": [
        "Скопируйте функцию `count_parameters` в `submission_template01.py` для последующей сдачи задания.\n",
        "Отправьте `submission_template01.py` в Яндекс.Контест."
      ]
    },
    {
      "cell_type": "markdown",
      "metadata": {
        "id": "reFoawRxB4W7"
      },
      "source": [
        "На этом первое домашнее задание завершено. Поздравляем!"
      ]
    }
  ],
  "metadata": {
    "kernelspec": {
      "display_name": "Py3 Research",
      "language": "python",
      "name": "py3_research_kernel"
    },
    "language_info": {
      "codemirror_mode": {
        "name": "ipython",
        "version": 3
      },
      "file_extension": ".py",
      "mimetype": "text/x-python",
      "name": "python",
      "nbconvert_exporter": "python",
      "pygments_lexer": "ipython3",
      "version": "3.9.7"
    },
    "colab": {
      "provenance": []
    }
  },
  "nbformat": 4,
  "nbformat_minor": 0
}