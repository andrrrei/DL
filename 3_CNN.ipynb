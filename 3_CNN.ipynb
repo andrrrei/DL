{
  "cells": [
    {
      "cell_type": "markdown",
      "metadata": {
        "id": "FgzQ5bscUnsm"
      },
      "source": [
        "# Домашнее задание №4\n",
        "\n",
        "##### Автор: [Татьяна Гайнцева](https://www.linkedin.com/in/tgaintseva/), @atmyre"
      ]
    },
    {
      "cell_type": "code",
      "execution_count": null,
      "metadata": {
        "id": "dlo1UHiNUnsp"
      },
      "outputs": [],
      "source": [
        "import numpy as np\n",
        "\n",
        "import torch\n",
        "from torch import nn\n",
        "from torch.nn import functional as F\n",
        "\n",
        "import torchvision\n",
        "from torchvision import datasets, transforms\n",
        "\n",
        "from matplotlib import pyplot as plt\n",
        "from IPython.display import clear_output"
      ]
    },
    {
      "cell_type": "markdown",
      "source": [
        "Это домашнее задание состоит из двух частей. В первой части вам нужно реализовать правильную архитектуру сверточной нейросети. Во второй части — подобрать хорошую архитектуру и обучить ее на датасете CIFAR так, чтобы результаты метрики accuracy на тестовой части CIFAR были больше 60%"
      ],
      "metadata": {
        "id": "vdRDK1t0Wgxy"
      }
    },
    {
      "cell_type": "markdown",
      "source": [
        "## Задача №1:\n",
        "В этом задании вам нужно заполнить пропуски в ячейке ниже, чтобы получилась сверточная нейросеть с заданными параметрами."
      ],
      "metadata": {
        "id": "GmVeuJosbxFD"
      }
    },
    {
      "cell_type": "markdown",
      "source": [
        "Архитектура сети:\n",
        "**conv1 -> maxpool1 -> conv2 -> maxpool2 -> flatten -> fc1 -> fc2**\n",
        "\n",
        "- conv1: 3 фильтра размера (5, 5);\n",
        "- maxpool1: ядро размера 2;\n",
        "- conv2: 5 фильтров размера (3, 3);\n",
        "- maxpool2: ядро размера 2;\n",
        "- fc1: 100 нейронов на выходе;\n",
        "- fc2: 10 нейронов на выходе.\n",
        "\n",
        "После сверточных слоев и первого полносвязного слоя нужно применить функцию активации ReLU. **Важно:** для успешной сдачи задания функция активации должна быть применена с помощью F.ReLU (не с помощью nn.ReLU).\n",
        "\n",
        "**Нейросеть должна работать с изображениями размера 32х32. Никакие дополнительные параметры слоев, кроме указанных выше, задавать не нужно**."
      ],
      "metadata": {
        "id": "QwGlvTT-b5tW"
      }
    },
    {
      "cell_type": "code",
      "source": [
        "class ConvNet(nn.Module):\n",
        "    def __init__(self):\n",
        "        super().__init__()\n",
        "\n",
        "        # Определение слоев сети\n",
        "        self.conv1 = nn.Conv2d(in_channels=3, out_channels=3, kernel_size=(5, 5))\n",
        "        self.pool1 = nn.MaxPool2d(kernel_size=(2, 2))\n",
        "        self.conv2 = nn.Conv2d(in_channels=3, out_channels=5, kernel_size=(3, 3))\n",
        "        self.pool2 = nn.MaxPool2d(kernel_size=(2, 2))\n",
        "\n",
        "        self.flatten = nn.Flatten()\n",
        "\n",
        "        self.fc1 = nn.Linear(5 * 6 * 6, 100)\n",
        "        self.fc2 = nn.Linear(100, 10)\n",
        "\n",
        "    def forward(self, x):\n",
        "        # Реализация forward pass сети\n",
        "        x = F.relu(self.conv1(x))\n",
        "        x = self.pool1(x)\n",
        "        x = F.relu(self.conv2(x))\n",
        "        x = self.pool2(x)\n",
        "        x = self.flatten(x)\n",
        "        x = F.relu(self.fc1(x))\n",
        "        x = self.fc2(x)\n",
        "        return x"
      ],
      "metadata": {
        "id": "zEQy7-AEb9--"
      },
      "execution_count": null,
      "outputs": []
    },
    {
      "cell_type": "markdown",
      "source": [
        "### Проверка"
      ],
      "metadata": {
        "id": "0nouGfm_gDFD"
      }
    },
    {
      "cell_type": "markdown",
      "source": [
        "Ячейки ниже помогут проверить, что модель написана и работает правильно."
      ],
      "metadata": {
        "id": "TMWATEWKgFgp"
      }
    },
    {
      "cell_type": "code",
      "source": [
        "# Эта ячейка не должна выдавать ошибку.\n",
        "# Если при исполнении ячейки возникает ошибка, то в вашей реализации нейросети есть баги.\n",
        "img = torch.Tensor(np.random.random((32, 3, 32, 32)))\n",
        "model = ConvNet()\n",
        "out = model(img)"
      ],
      "metadata": {
        "id": "xVbCt6AffvNp"
      },
      "execution_count": null,
      "outputs": []
    },
    {
      "cell_type": "markdown",
      "source": [
        "Ячейка ниже проверяет, что устройство сети верное."
      ],
      "metadata": {
        "id": "HmVRmDEfgdoH"
      }
    },
    {
      "cell_type": "code",
      "source": [
        "# conv1\n",
        "assert model.conv1.kernel_size == (5, 5), \"неверный размер ядра у conv1\"\n",
        "assert model.conv1.in_channels == 3, \"неверный размер in_channels у conv1\"\n",
        "assert model.conv1.out_channels == 3, \"неверный размер out_channels у conv1\"\n",
        "\n",
        "# pool1\n",
        "assert model.pool1.kernel_size == (2, 2), \"неверный размер ядра у pool1\"\n",
        "\n",
        "# conv2\n",
        "assert model.conv2.kernel_size == (3, 3), \"неверный размер ядра у conv2\"\n",
        "assert model.conv2.in_channels == 3, \"неверный размер in_channels у conv2\"\n",
        "assert model.conv2.out_channels == 5, \"неверный размер out_channels у conv2\"\n",
        "\n",
        "# pool2\n",
        "assert model.pool1.kernel_size == (2, 2), \"неверный размер ядра у pool2\"\n",
        "\n",
        "# fc1\n",
        "assert model.fc1.out_features == 100, \"неверный размер out_features у fc1\"\n",
        "# fc2\n",
        "assert model.fc2.out_features == 10, \"неверный размер out_features у fc2\""
      ],
      "metadata": {
        "id": "iZ_t7mCDesVU"
      },
      "execution_count": null,
      "outputs": []
    },
    {
      "cell_type": "markdown",
      "source": [
        "### Сдача задания"
      ],
      "metadata": {
        "id": "dtKvuJRHqM_d"
      }
    },
    {
      "cell_type": "markdown",
      "source": [
        "Если обе ячейки отработали без ошибок, можно сдавать задание в первую задачу на Я.Контесте.\n",
        "Для этого нужно скопировать класс ConvNet в нужное место в `submission_template04.py` и отправить `submission_template04.py` в Я.Контест."
      ],
      "metadata": {
        "id": "QybQ4rtQgppH"
      }
    },
    {
      "cell_type": "markdown",
      "metadata": {
        "id": "obC9bnWsUnsr"
      },
      "source": [
        "## Задача №2:\n",
        "Вернемся к задаче классификации картинок [CIFAR](https://www.cs.toronto.edu/~kriz/cifar.html).\n",
        "\n",
        "__Ваша основная задача: реализовать весь пайплан обучения модели и добиться хорошего значения метрики accuracy на тестовой выборке.__\n",
        "Баллы за задание:\n",
        "- **0**, если accuracy на тестовой выборке <0.5;\n",
        "- **0.5**, если accuracy на тестовой выборке >0.5 и <0.6;\n",
        "- **1**, если accuracy на тестовой выборке >0.6;\n",
        "\n",
        "Код для обучения модели в данном задании полностью реализован. Вам нужно лишь написать код класса нейросети и поэкспериментировать с параметрами так, чтобы получить хорошее качество. В качестве основы архитектуры сети можно взять сеть из задачи №1."
      ]
    },
    {
      "cell_type": "markdown",
      "source": [
        "**! Перед выполнением этого задания рекомендуем включить GPU в настройках колаба.** Это поможет обучать нейросеть быстрее.\n",
        "\n",
        "Чтобы включить GPU, перейдите Edit->Notebook settings и выберите Hardware accelerator=GPU. Нажмите save."
      ],
      "metadata": {
        "id": "izGM3kjrhbCk"
      }
    },
    {
      "cell_type": "code",
      "source": [
        "import numpy as np\n",
        "\n",
        "import torch\n",
        "from torch import nn\n",
        "from torch.nn import functional as F\n",
        "\n",
        "import torchvision\n",
        "from torchvision import datasets, transforms\n",
        "\n",
        "from matplotlib import pyplot as plt\n",
        "from IPython.display import clear_output"
      ],
      "metadata": {
        "id": "ZUgd4OiDh4EP"
      },
      "execution_count": null,
      "outputs": []
    },
    {
      "cell_type": "markdown",
      "source": [
        "### Загрузка данных"
      ],
      "metadata": {
        "id": "i5VkRn8eYCL3"
      }
    },
    {
      "cell_type": "markdown",
      "source": [
        "Код загрузки данных тот же, что был на занятии. Менять ничего не нужно."
      ],
      "metadata": {
        "id": "w5-HED1XYV96"
      }
    },
    {
      "cell_type": "code",
      "execution_count": null,
      "metadata": {
        "id": "-31e0aCCUnss",
        "colab": {
          "base_uri": "https://localhost:8080/"
        },
        "outputId": "08ad81a8-6ec8-4a16-83ae-5cf3bda075fc"
      },
      "outputs": [
        {
          "output_type": "stream",
          "name": "stdout",
          "text": [
            "Downloading https://www.cs.toronto.edu/~kriz/cifar-10-python.tar.gz to ./cifar10_data/cifar-10-python.tar.gz\n"
          ]
        },
        {
          "output_type": "stream",
          "name": "stderr",
          "text": [
            "100%|██████████| 170498071/170498071 [00:13<00:00, 12936744.31it/s]\n"
          ]
        },
        {
          "output_type": "stream",
          "name": "stdout",
          "text": [
            "Extracting ./cifar10_data/cifar-10-python.tar.gz to ./cifar10_data\n",
            "Files already downloaded and verified\n"
          ]
        }
      ],
      "source": [
        "# загружаем датасет из torchvision\n",
        "train_data = datasets.CIFAR10(root=\"./cifar10_data\", train=True, download=True, transform=transforms.ToTensor())\n",
        "test_data = datasets.CIFAR10(root=\"./cifar10_data\", train=False, download=True, transform=transforms.ToTensor())\n",
        "\n",
        "# делим тренировочную часть на train и val\n",
        "\n",
        "# в тренировочную выборку отнесем 80% всех картинок\n",
        "train_size = int(len(train_data) * 0.8)\n",
        "# в валидационную — остальные 20%\n",
        "val_size = len(train_data) - train_size\n",
        "\n",
        "train_data, val_data = torch.utils.data.random_split(train_data, [train_size, val_size])\n",
        "\n",
        "# заводим даталоадеры, которые будут генерировать батчи\n",
        "train_loader = torch.utils.data.DataLoader(train_data, batch_size=64, shuffle=True)\n",
        "val_loader = torch.utils.data.DataLoader(val_data, batch_size=64, shuffle=False)\n",
        "test_loader = torch.utils.data.DataLoader(test_data, batch_size=64, shuffle=False)"
      ]
    },
    {
      "cell_type": "markdown",
      "source": [
        "Посмотрим на несколько картинок из датасета:"
      ],
      "metadata": {
        "id": "3xJCM2lZYjtR"
      }
    },
    {
      "cell_type": "code",
      "source": [
        "# функция отрисовки картинок\n",
        "def show_images(images, labels):\n",
        "    f, axes= plt.subplots(1, 10, figsize=(30,5))\n",
        "\n",
        "    for i, axis in enumerate(axes):\n",
        "        # переводим картинку из тензора в numpy\n",
        "        img = images[i].numpy()\n",
        "        # переводим картинку в размерность (длина, ширина, цветовые каналы)\n",
        "        img = np.transpose(img, (1, 2, 0))\n",
        "\n",
        "        axes[i].imshow(img)\n",
        "        axes[i].set_title(labels[i].numpy())\n",
        "\n",
        "    plt.show()\n",
        "\n",
        "# получаем батч картинок\n",
        "for batch in train_loader:\n",
        "    images, labels = batch\n",
        "    break\n",
        "\n",
        "show_images(images, labels)"
      ],
      "metadata": {
        "id": "R7ZBNxsLYvMP",
        "colab": {
          "base_uri": "https://localhost:8080/",
          "height": 107
        },
        "outputId": "df25cace-a80d-4ff7-a4c6-e2cd827b91a0"
      },
      "execution_count": null,
      "outputs": [
        {
          "output_type": "display_data",
          "data": {
            "text/plain": [
              "<Figure size 3000x500 with 10 Axes>"
            ],
            "image/png": "[encoded data removed]"
          },
          "metadata": {}
        }
      ]
    },
    {
      "cell_type": "markdown",
      "source": [
        "### Построение модели"
      ],
      "metadata": {
        "id": "EAbF9VCHifUg"
      }
    },
    {
      "cell_type": "markdown",
      "metadata": {
        "id": "ZN-AYLsyUnsu"
      },
      "source": [
        "Ниже — ячейка для построения модели. Не стоит сразу делать большую и сложную модель с большим количеством слоев: такая сеть будет обучаться очень долго и, скорее всего, переобучится.\n",
        "\n",
        "Ваша основная задача – обучить модель и получить качество на отложенной (тестовой выборке) не менее 60% accuracy.\n",
        "\n",
        "__Внимание: ваша модель должна быть представлена именно переменной `model`.__"
      ]
    },
    {
      "cell_type": "markdown",
      "source": [
        "Идеи, что можно попробовать, чтобы улучшить результат сети:\n",
        "\n",
        "- попробовать разное количество сверточных и полносвязных слоев;\n",
        "- попробовать разное количество фильтров в сверточных слоях;\n",
        "- попробовать разное количество нейронов в скрытых полносвязных слоях;\n",
        "- попробовать добавить BatchNorm, как после полносвязных, так и после сверточных слоев. Обратите внимание, что для сверточных слоев используется [nn.BatchNorm2d](https://pytorch.org/docs/stable/generated/torch.nn.BatchNorm2d.html). Аргумент num_features равен количеству фильтров (out_channels) сверточного слоя;\n",
        "- попробовать добавить/убрать max_pooling;\n",
        "- поменять learning_rate;\n",
        "- обучать сеть большее количество эпох.\n",
        "\n",
        "Если ваша модель переобучается (метрика на валидации нацинает становиться хуже), попробуйте уменьшить количество параметров модели. Если модель не переобучается, но показывает плохой результат, попробуйте увеличить количество параметров модели."
      ],
      "metadata": {
        "id": "QFaM1UeWaE4K"
      }
    },
    {
      "cell_type": "code",
      "source": [
        "from torch.nn.modules.batchnorm import BatchNorm1d"
      ],
      "metadata": {
        "id": "EJD91SDsHcT-"
      },
      "execution_count": null,
      "outputs": []
    },
    {
      "cell_type": "code",
      "execution_count": null,
      "metadata": {
        "id": "3UyozaPnUnsu"
      },
      "outputs": [],
      "source": [
        "class ConvNet(nn.Module):\n",
        "    def __init__(self):\n",
        "        super().__init__()\n",
        "\n",
        "        self.conv1 = nn.Conv2d(in_channels=3, out_channels=3, kernel_size=(5, 5))\n",
        "        self.conv2 = nn.Conv2d(in_channels=3, out_channels=6, kernel_size=(3, 3))\n",
        "        self.conv3 = nn.Conv2d(in_channels=6, out_channels=12, kernel_size=(3, 3))\n",
        "        self.pool = nn.MaxPool2d(kernel_size=(2, 2))\n",
        "\n",
        "        self.flatten = nn.Flatten()\n",
        "\n",
        "        self.fc1 = nn.Linear(12 * 11 * 11, 100)\n",
        "        self.bn1 = BatchNorm1d(100)\n",
        "        self.fc2 = nn.Linear(100, 100)\n",
        "        self.bn2 = BatchNorm1d(100)\n",
        "        self.fc3 = nn.Linear(100, 50)\n",
        "        self.bn3 = BatchNorm1d(50)\n",
        "        self.fc4 = nn.Linear(50, 10)\n",
        "\n",
        "    def forward(self, x):\n",
        "        x = F.relu(self.conv1(x))\n",
        "        #x = self.pool(x)\n",
        "        x = F.relu(self.conv2(x))\n",
        "        x = self.pool(x)\n",
        "        x = F.relu(self.conv3(x))\n",
        "        x = self.flatten(x)\n",
        "        x = F.relu(self.fc1(x))\n",
        "        x = self.bn1(x)\n",
        "        x = F.relu(self.fc2(x))\n",
        "        x = self.bn2(x)\n",
        "        x = F.relu(self.fc3(x))\n",
        "        x = self.bn3(x)\n",
        "        x = self.fc4(x)\n",
        "        return x\n"
      ]
    },
    {
      "cell_type": "code",
      "source": [
        "model = ConvNet()"
      ],
      "metadata": {
        "id": "MFpILkiXhEz-"
      },
      "execution_count": null,
      "outputs": []
    },
    {
      "cell_type": "markdown",
      "source": [
        "Ячейка ниже проверяет, доступен ли GPU и если да, то переносит нейросеть на GPU."
      ],
      "metadata": {
        "id": "1reimxeCh9BA"
      }
    },
    {
      "cell_type": "code",
      "source": [
        "device = torch.device(\"cuda\" if torch.cuda.is_available() else \"cpu\")\n",
        "model = model.to(device)"
      ],
      "metadata": {
        "id": "keaqEK3ug9rd"
      },
      "execution_count": null,
      "outputs": []
    },
    {
      "cell_type": "markdown",
      "source": [
        "### Обучение модели"
      ],
      "metadata": {
        "id": "iKghv45uiEqo"
      }
    },
    {
      "cell_type": "markdown",
      "metadata": {
        "id": "b2onmgyzUntQ"
      },
      "source": [
        "Функция обучения сети (ее менять не нужно).\n",
        "\n",
        "Функция выводит текущие значения лосса и accuracy на train выборке каждые 50 итераций обучения. Также после каждой эпохи считается и выводится лосс и accuracy на val выборке. По этим значениям можно понимать, как хорошо обучается ваша модель."
      ]
    },
    {
      "cell_type": "code",
      "execution_count": null,
      "metadata": {
        "id": "jYsRSxVjUntR"
      },
      "outputs": [],
      "source": [
        "def evaluate(model, dataloader, loss_fn):\n",
        "\n",
        "    losses = []\n",
        "\n",
        "    num_correct = 0\n",
        "    num_elements = 0\n",
        "\n",
        "    for i, batch in enumerate(dataloader):\n",
        "\n",
        "        # так получаем текущий батч\n",
        "        X_batch, y_batch = batch\n",
        "        num_elements += len(y_batch)\n",
        "\n",
        "        with torch.no_grad():\n",
        "            logits = model(X_batch.to(device))\n",
        "\n",
        "            loss = loss_fn(logits, y_batch.to(device))\n",
        "            losses.append(loss.item())\n",
        "\n",
        "            y_pred = torch.argmax(logits, dim=1)\n",
        "\n",
        "            num_correct += torch.sum(y_pred.cpu() == y_batch)\n",
        "\n",
        "    accuracy = num_correct / num_elements\n",
        "\n",
        "    return accuracy.numpy(), np.mean(losses)\n",
        "\n",
        "def train(model, loss_fn, optimizer, n_epoch=3):\n",
        "\n",
        "    # цикл обучения сети\n",
        "    for epoch in range(n_epoch):\n",
        "\n",
        "        print(\"Epoch:\", epoch+1)\n",
        "\n",
        "        model.train(True)\n",
        "\n",
        "        running_losses = []\n",
        "        running_accuracies = []\n",
        "        for i, batch in enumerate(train_loader):\n",
        "            # так получаем текущий батч\n",
        "            X_batch, y_batch = batch\n",
        "\n",
        "            # forward pass (получение ответов на батч картинок)\n",
        "            logits = model(X_batch.to(device))\n",
        "\n",
        "            # вычисление лосса от выданных сетью ответов и правильных ответов на батч\n",
        "            loss = loss_fn(logits, y_batch.to(device))\n",
        "            running_losses.append(loss.item())\n",
        "\n",
        "            loss.backward() # backpropagation (вычисление градиентов)\n",
        "            optimizer.step() # обновление весов сети\n",
        "            optimizer.zero_grad() # обнуляем веса\n",
        "\n",
        "            # вычислим accuracy на текущем train батче\n",
        "            model_answers = torch.argmax(logits, dim=1)\n",
        "            train_accuracy = torch.sum(y_batch == model_answers.cpu()) / len(y_batch)\n",
        "            running_accuracies.append(train_accuracy)\n",
        "\n",
        "            # Логирование результатов\n",
        "            if (i+1) % 100 == 0:\n",
        "                print(\"Средние train лосс и accuracy на последних 50 итерациях:\",\n",
        "                      np.mean(running_losses), np.mean(running_accuracies), end='\\n')\n",
        "\n",
        "        # после каждой эпохи получаем метрику качества на валидационной выборке\n",
        "        model.train(False)\n",
        "\n",
        "        val_accuracy, val_loss = evaluate(model, val_loader, loss_fn=loss_fn)\n",
        "        print(\"Эпоха {}/{}: val лосс и accuracy:\".format(epoch+1, n_epoch,),\n",
        "                      val_loss, val_accuracy, end='\\n')\n",
        "\n",
        "    return model"
      ]
    },
    {
      "cell_type": "markdown",
      "source": [
        "Запускаем обучение."
      ],
      "metadata": {
        "id": "qEBr1qTOjfo3"
      }
    },
    {
      "cell_type": "code",
      "source": [
        "# снова объявим модель\n",
        "model = ConvNet()\n",
        "device = torch.device(\"cuda\" if torch.cuda.is_available() else \"cpu\")\n",
        "model = model.to(device)\n",
        "\n",
        "# выбираем функцию потерь\n",
        "loss_fn = torch.nn.CrossEntropyLoss()\n",
        "\n",
        "# выбираем алгоритм оптимизации и learning_rate.\n",
        "# вы можете экспериментировать с разными значениями learning_rate\n",
        "learning_rate = 1e-3\n",
        "optimizer = torch.optim.Adam(model.parameters(), lr=learning_rate)"
      ],
      "metadata": {
        "id": "KYqzqj02jZly"
      },
      "execution_count": null,
      "outputs": []
    },
    {
      "cell_type": "code",
      "source": [
        "# запустим обучение модели\n",
        "# параметр n_epoch можно варьировать\n",
        "model = train(model, loss_fn, optimizer, n_epoch=7)"
      ],
      "metadata": {
        "id": "QMgy5EGsnEZt",
        "colab": {
          "base_uri": "https://localhost:8080/"
        },
        "outputId": "37dbf659-03b6-4b61-df4f-479b504fef46"
      },
      "execution_count": null,
      "outputs": [
        {
          "output_type": "stream",
          "name": "stdout",
          "text": [
            "Epoch: 1\n",
            "Средние train лосс и accuracy на последних 50 итерациях: 0.8606929135322571 0.6990625\n",
            "Средние train лосс и accuracy на последних 50 итерациях: 0.8761202159523964 0.68953127\n",
            "Средние train лосс и accuracy на последних 50 итерациях: 0.8830257660150528 0.68635416\n",
            "Средние train лосс и accuracy на последних 50 итерациях: 0.8829668329656124 0.6882031\n",
            "Средние train лосс и accuracy на последних 50 итерациях: 0.8850204023122787 0.68825\n",
            "Средние train лосс и accuracy на последних 50 итерациях: 0.8905819940567017 0.68630207\n",
            "Эпоха 1/7: val лосс и accuracy: 1.1969020643811317 0.5821\n",
            "Epoch: 2\n",
            "Средние train лосс и accuracy на последних 50 итерациях: 0.8328631341457366 0.70734376\n",
            "Средние train лосс и accuracy на последних 50 итерациях: 0.8277621388435363 0.7059375\n",
            "Средние train лосс и accuracy на последних 50 итерациях: 0.8394922697544098 0.70442706\n",
            "Средние train лосс и accuracy на последних 50 итерациях: 0.8500341163575649 0.70113283\n",
            "Средние train лосс и accuracy на последних 50 итерациях: 0.8572766977548599 0.6988438\n",
            "Средние train лосс и accuracy на последних 50 итерациях: 0.863001306951046 0.6965625\n",
            "Эпоха 2/7: val лосс и accuracy: 1.2365253529730875 0.5871\n",
            "Epoch: 3\n",
            "Средние train лосс и accuracy на последних 50 итерациях: 0.8035207933187485 0.7157813\n",
            "Средние train лосс и accuracy на последних 50 итерациях: 0.8011441648006439 0.71367186\n",
            "Средние train лосс и accuracy на последних 50 итерациях: 0.8132680314779281 0.70973957\n",
            "Средние train лосс и accuracy на последних 50 итерациях: 0.8177207019925118 0.7086328\n",
            "Средние train лосс и accuracy на последних 50 итерациях: 0.8257139599323273 0.705875\n",
            "Средние train лосс и accuracy на последних 50 итерациях: 0.8299384711186091 0.70497394\n",
            "Эпоха 3/7: val лосс и accuracy: 1.1905544635596548 0.5976\n",
            "Epoch: 4\n",
            "Средние train лосс и accuracy на последних 50 итерациях: 0.7728172236680985 0.7275\n",
            "Средние train лосс и accuracy на последних 50 итерациях: 0.7791344732046127 0.7228125\n",
            "Средние train лосс и accuracy на последних 50 итерациях: 0.7828437043229739 0.7228125\n",
            "Средние train лосс и accuracy на последних 50 итерациях: 0.7970366740971804 0.7180078\n",
            "Средние train лосс и accuracy на последних 50 итерациях: 0.8077435582280159 0.71378124\n",
            "Средние train лосс и accuracy на последних 50 итерациях: 0.8113180877765019 0.71234375\n",
            "Эпоха 4/7: val лосс и accuracy: 1.2355160189282364 0.5871\n",
            "Epoch: 5\n",
            "Средние train лосс и accuracy на последних 50 итерациях: 0.7253662168979644 0.74625\n",
            "Средние train лосс и accuracy на последних 50 итерациях: 0.7498184989392758 0.73226565\n",
            "Средние train лосс и accuracy на последних 50 итерациях: 0.7636652677257856 0.72796875\n",
            "Средние train лосс и accuracy на последних 50 итерациях: 0.7766762277483941 0.7240625\n",
            "Средние train лосс и accuracy на последних 50 итерациях: 0.7786116461157799 0.7245625\n",
            "Средние train лосс и accuracy на последних 50 итерациях: 0.7827630060414473 0.7223698\n",
            "Эпоха 5/7: val лосс и accuracy: 1.2441047486985566 0.5884\n",
            "Epoch: 6\n",
            "Средние train лосс и accuracy на последних 50 итерациях: 0.7187449550628662 0.7459375\n",
            "Средние train лосс и accuracy на последних 50 итерациях: 0.725485730022192 0.7445313\n",
            "Средние train лосс и accuracy на последних 50 итерациях: 0.7453564209739367 0.7369792\n",
            "Средние train лосс и accuracy на последних 50 итерациях: 0.7452290190011263 0.7371875\n",
            "Средние train лосс и accuracy на последних 50 итерациях: 0.7518993780016899 0.7349687\n",
            "Средние train лосс и accuracy на последних 50 итерациях: 0.7565574241181214 0.7338802\n",
            "Эпоха 6/7: val лосс и accuracy: 1.236011458809968 0.6004\n",
            "Epoch: 7\n",
            "Средние train лосс и accuracy на последних 50 итерациях: 0.6838112813234329 0.7571875\n",
            "Средние train лосс и accuracy на последних 50 итерациях: 0.702599101215601 0.75078124\n",
            "Средние train лосс и accuracy на последних 50 итерациях: 0.7134275263547898 0.7470313\n",
            "Средние train лосс и accuracy на последних 50 итерациях: 0.7186892275512219 0.74546874\n",
            "Средние train лосс и accuracy на последних 50 итерациях: 0.7250085477232933 0.7436875\n",
            "Средние train лосс и accuracy на последних 50 итерациях: 0.7330913581947486 0.7405469\n",
            "Эпоха 7/7: val лосс и accuracy: 1.2600251090754369 0.5964\n"
          ]
        }
      ]
    },
    {
      "cell_type": "markdown",
      "source": [
        "### Получение метрики качества на тестовой выборке"
      ],
      "metadata": {
        "id": "J-0bg_d9mQJc"
      }
    },
    {
      "cell_type": "code",
      "execution_count": null,
      "metadata": {
        "id": "5fdsfmmGUntS",
        "colab": {
          "base_uri": "https://localhost:8080/"
        },
        "outputId": "585e9bc0-3a51-48ff-facd-4ca31945038d"
      },
      "outputs": [
        {
          "output_type": "stream",
          "name": "stdout",
          "text": [
            "Accuracy на тесте 0.6022\n"
          ]
        }
      ],
      "source": [
        "test_accuracy, _ = evaluate(model, test_loader, loss_fn)\n",
        "print('Accuracy на тесте', test_accuracy)"
      ]
    },
    {
      "cell_type": "markdown",
      "source": [
        "Вы можете экспериментировать с разным устройством архитектуры нейросети и запускать ее обучение и проверять accuracy на тесте с помощью трех ячеек выше. Когда вы получили нужное значение accuracy на тесте, можете сдавать задание на Я.Контест."
      ],
      "metadata": {
        "id": "mTWg3rx7oigY"
      }
    },
    {
      "cell_type": "markdown",
      "metadata": {
        "id": "s1lUTTanUntT"
      },
      "source": [
        "Проверка, что необходимые пороги пройдены:"
      ]
    },
    {
      "cell_type": "code",
      "execution_count": null,
      "metadata": {
        "id": "h0D82xfkUntT",
        "colab": {
          "base_uri": "https://localhost:8080/"
        },
        "outputId": "17529b62-197c-4106-d1f7-6b12c2b3c321"
      },
      "outputs": [
        {
          "output_type": "stream",
          "name": "stdout",
          "text": [
            "Качество на тесте между 0.5 и 0.6, 0.5 баллов\n"
          ]
        }
      ],
      "source": [
        "if test_accuracy <= 0.5:\n",
        "    print(\"Качество на тесте ниже 0.5, 0 баллов\")\n",
        "elif test_accuracy < 0.6:\n",
        "    print(\"Качество на тесте между 0.5 и 0.6, 0.5 баллов\")\n",
        "elif test_accuracy >= 0.6:\n",
        "    print(\"Качество на тесте выше 0.6, 1 балл\")"
      ]
    },
    {
      "cell_type": "markdown",
      "metadata": {
        "id": "jaaib09bUntU"
      },
      "source": [
        "### Сдача задания\n",
        "В ячейке ниже реализован код для получения файла с обученной сетью. Запустите эти ячейки. Полученный файл model.pth отправьте в Я.Контест"
      ]
    },
    {
      "cell_type": "code",
      "execution_count": null,
      "metadata": {
        "id": "gnLPac1NUntV"
      },
      "outputs": [],
      "source": [
        "model.eval()\n",
        "x = torch.randn((1, 3, 32, 32))\n",
        "torch.jit.save(torch.jit.trace(model.cpu(), (x)), \"model.pth\")"
      ]
    },
    {
      "cell_type": "markdown",
      "metadata": {
        "id": "szdg0viDUntW"
      },
      "source": [
        "Теперь у вас во вкладке \"файлы\" лежит файл model.pth. Загрузите этот файл в Я.Контест. И на этом задание завершено. Поздравляем!"
      ]
    }
  ],
  "metadata": {
    "kernelspec": {
      "display_name": "Py3 Research",
      "language": "python",
      "name": "py3_research"
    },
    "language_info": {
      "codemirror_mode": {
        "name": "ipython",
        "version": 3
      },
      "file_extension": ".py",
      "mimetype": "text/x-python",
      "name": "python",
      "nbconvert_exporter": "python",
      "pygments_lexer": "ipython3",
      "version": "3.7.10"
    },
    "colab": {
      "provenance": []
    },
    "accelerator": "GPU"
  },
  "nbformat": 4,
  "nbformat_minor": 0
}